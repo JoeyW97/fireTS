{
 "cells": [
  {
   "cell_type": "code",
   "execution_count": 1,
   "metadata": {},
   "outputs": [
    {
     "name": "stderr",
     "output_type": "stream",
     "text": [
      "/home/jinyu/anaconda3/envs/fireTS/lib/python3.7/site-packages/sklearn/utils/deprecation.py:143: FutureWarning: The sklearn.metrics.regression module is  deprecated in version 0.22 and will be removed in version 0.24. The corresponding classes / functions should instead be imported from sklearn.metrics. Anything that cannot be imported from sklearn.metrics is now part of the private API.\n",
      "  warnings.warn(message, FutureWarning)\n"
     ]
    }
   ],
   "source": [
    "from fireTS.models import DirectAutoRegressor\n",
    "from sklearn.ensemble import RandomForestRegressor\n",
    "import numpy as np\n",
    "\n",
    "x = np.random.randn(100, 1)\n",
    "y = np.random.randn(100)\n",
    "mdl = DirectAutoRegressor(RandomForestRegressor(), auto_order=2, exog_order=[2], exog_delay=[1], pred_step=3)\n",
    "mdl.fit(x, y)\n",
    "ypred = mdl.predict(x, y)"
   ]
  },
  {
   "cell_type": "code",
   "execution_count": 2,
   "metadata": {},
   "outputs": [],
   "source": [
    "from fireTS.models import NARX\n",
    "from sklearn.ensemble import RandomForestRegressor\n",
    "import numpy as np\n",
    "\n",
    "x = np.random.randn(100, 1)\n",
    "y = np.random.randn(100)\n",
    "mdl = NARX(RandomForestRegressor(), auto_order=2, exog_order=[2], exog_delay=[1])\n",
    "mdl.fit(x, y)\n",
    "ypred = mdl.predict(x, y, step=3)"
   ]
  },
  {
   "cell_type": "code",
   "execution_count": 3,
   "metadata": {},
   "outputs": [
    {
     "name": "stdout",
     "output_type": "stream",
     "text": [
      "Fitting 5 folds for each of 3 candidates, totalling 15 fits\n",
      "[CV] n_estimators=10 .................................................\n",
      "[CV] .................................. n_estimators=10, total=   0.0s\n",
      "[CV] n_estimators=10 .................................................\n",
      "[CV] .................................. n_estimators=10, total=   0.0s\n",
      "[CV] n_estimators=10 .................................................\n",
      "[CV] .................................. n_estimators=10, total=   0.0s\n",
      "[CV] n_estimators=10 .................................................\n",
      "[CV] .................................. n_estimators=10, total=   0.0s\n",
      "[CV] n_estimators=10 .................................................\n",
      "[CV] .................................. n_estimators=10, total=   0.0s\n",
      "[CV] n_estimators=30 .................................................\n",
      "[CV] .................................. n_estimators=30, total=   0.0s\n",
      "[CV] n_estimators=30 .................................................\n",
      "[CV] .................................. n_estimators=30, total=   0.0s\n",
      "[CV] n_estimators=30 .................................................\n",
      "[CV] .................................. n_estimators=30, total=   0.0s\n",
      "[CV] n_estimators=30 .................................................\n",
      "[CV] .................................. n_estimators=30, total=   0.0s\n",
      "[CV] n_estimators=30 .................................................\n",
      "[CV] .................................. n_estimators=30, total=   0.0s\n",
      "[CV] n_estimators=100 ................................................\n"
     ]
    },
    {
     "name": "stderr",
     "output_type": "stream",
     "text": [
      "[Parallel(n_jobs=1)]: Using backend SequentialBackend with 1 concurrent workers.\n",
      "[Parallel(n_jobs=1)]: Done   1 out of   1 | elapsed:    0.0s remaining:    0.0s\n"
     ]
    },
    {
     "name": "stdout",
     "output_type": "stream",
     "text": [
      "[CV] ................................. n_estimators=100, total=   0.1s\n",
      "[CV] n_estimators=100 ................................................\n",
      "[CV] ................................. n_estimators=100, total=   0.1s\n",
      "[CV] n_estimators=100 ................................................\n",
      "[CV] ................................. n_estimators=100, total=   0.1s\n",
      "[CV] n_estimators=100 ................................................\n",
      "[CV] ................................. n_estimators=100, total=   0.1s\n",
      "[CV] n_estimators=100 ................................................\n",
      "[CV] ................................. n_estimators=100, total=   0.1s\n",
      "NARX(auto_order=2, base_estimator=RandomForestRegressor(), exog_delay=[1],\n",
      "     exog_order=[2])\n"
     ]
    },
    {
     "name": "stderr",
     "output_type": "stream",
     "text": [
      "[Parallel(n_jobs=1)]: Done  15 out of  15 | elapsed:    0.6s finished\n"
     ]
    }
   ],
   "source": [
    "from fireTS.models import NARX\n",
    "from sklearn.ensemble import RandomForestRegressor\n",
    "import numpy as np\n",
    "\n",
    "x = np.random.randn(100, 1)\n",
    "y = np.random.randn(100)\n",
    "\n",
    "# DirectAutoRegressor can do grid search as well\n",
    "mdl = NARX(RandomForestRegressor(), auto_order=2, exog_order=[2], exog_delay=[1])\n",
    "\n",
    "# Grid search\n",
    "para_grid = {'n_estimators': [10, 30, 100]}\n",
    "mdl.grid_search(x, y, para_grid, verbose=2)\n",
    "\n",
    "# Best hyper-parameters are set after grid search, print the model to see the difference\n",
    "print(mdl)\n",
    "\n",
    "# Fit the model and make the prediction\n",
    "mdl.fit(x, y)\n",
    "ypred = mdl.predict(x, y, step=3)"
   ]
  },
  {
   "cell_type": "code",
   "execution_count": null,
   "metadata": {},
   "outputs": [],
   "source": []
  }
 ],
 "metadata": {
  "kernelspec": {
   "display_name": "Python 3",
   "language": "python",
   "name": "python3"
  },
  "language_info": {
   "codemirror_mode": {
    "name": "ipython",
    "version": 3
   },
   "file_extension": ".py",
   "mimetype": "text/x-python",
   "name": "python",
   "nbconvert_exporter": "python",
   "pygments_lexer": "ipython3",
   "version": "3.7.7"
  }
 },
 "nbformat": 4,
 "nbformat_minor": 2
}
